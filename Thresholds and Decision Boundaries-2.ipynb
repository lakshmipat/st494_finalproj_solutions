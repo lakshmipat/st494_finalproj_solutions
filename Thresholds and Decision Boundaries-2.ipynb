{
 "cells": [
  {
   "cell_type": "code",
   "execution_count": 1,
   "id": "9723c7fb",
   "metadata": {},
   "outputs": [],
   "source": [
    "#1. Import necessary libraries and Load the Breast Cancer dataset:\n",
    "\n",
    "from sklearn.datasets import load_breast_cancer\n",
    "from sklearn.model_selection import train_test_split\n",
    "from sklearn.linear_model import LogisticRegression\n",
    "from sklearn.metrics import classification_report, confusion_matrix"
   ]
  },
  {
   "cell_type": "code",
   "execution_count": 8,
   "id": "42253e1b",
   "metadata": {},
   "outputs": [],
   "source": [
    "data = load_breast_cancer()\n",
    "X, y = data.data, data.target\n"
   ]
  },
  {
   "cell_type": "code",
   "execution_count": 3,
   "id": "1346aa29",
   "metadata": {},
   "outputs": [],
   "source": [
    "#2. Split the dataset into training and testing sets:\n",
    "\n",
    "X_train, X_test, y_train, y_test = train_test_split(X, y, test_size=0.2, random_state=42)\n"
   ]
  },
  {
   "cell_type": "code",
   "execution_count": 4,
   "id": "aafe2769",
   "metadata": {},
   "outputs": [
    {
     "data": {
      "text/plain": [
       "LogisticRegression(max_iter=10000)"
      ]
     },
     "execution_count": 4,
     "metadata": {},
     "output_type": "execute_result"
    }
   ],
   "source": [
    "#3. Train a logistic regression model:\n",
    "\n",
    "classifier = LogisticRegression(max_iter=10000)\n",
    "classifier.fit(X_train, y_train)\n"
   ]
  },
  {
   "cell_type": "code",
   "execution_count": 5,
   "id": "163cd437",
   "metadata": {},
   "outputs": [],
   "source": [
    "#Import numpy for further analysis\n",
    "import numpy as np"
   ]
  },
  {
   "cell_type": "code",
   "execution_count": 6,
   "id": "dbcc3890",
   "metadata": {},
   "outputs": [
    {
     "name": "stdout",
     "output_type": "stream",
     "text": [
      "Threshold: 0.1\n",
      "[[38  5]\n",
      " [ 1 70]]\n",
      "              precision    recall  f1-score   support\n",
      "\n",
      "           0       0.97      0.88      0.93        43\n",
      "           1       0.93      0.99      0.96        71\n",
      "\n",
      "    accuracy                           0.95       114\n",
      "   macro avg       0.95      0.93      0.94       114\n",
      "weighted avg       0.95      0.95      0.95       114\n",
      "\n",
      "Threshold: 0.2\n",
      "[[39  4]\n",
      " [ 1 70]]\n",
      "              precision    recall  f1-score   support\n",
      "\n",
      "           0       0.97      0.91      0.94        43\n",
      "           1       0.95      0.99      0.97        71\n",
      "\n",
      "    accuracy                           0.96       114\n",
      "   macro avg       0.96      0.95      0.95       114\n",
      "weighted avg       0.96      0.96      0.96       114\n",
      "\n",
      "Threshold: 0.3\n",
      "[[39  4]\n",
      " [ 1 70]]\n",
      "              precision    recall  f1-score   support\n",
      "\n",
      "           0       0.97      0.91      0.94        43\n",
      "           1       0.95      0.99      0.97        71\n",
      "\n",
      "    accuracy                           0.96       114\n",
      "   macro avg       0.96      0.95      0.95       114\n",
      "weighted avg       0.96      0.96      0.96       114\n",
      "\n",
      "Threshold: 0.4\n",
      "[[39  4]\n",
      " [ 1 70]]\n",
      "              precision    recall  f1-score   support\n",
      "\n",
      "           0       0.97      0.91      0.94        43\n",
      "           1       0.95      0.99      0.97        71\n",
      "\n",
      "    accuracy                           0.96       114\n",
      "   macro avg       0.96      0.95      0.95       114\n",
      "weighted avg       0.96      0.96      0.96       114\n",
      "\n",
      "Threshold: 0.5\n",
      "[[39  4]\n",
      " [ 1 70]]\n",
      "              precision    recall  f1-score   support\n",
      "\n",
      "           0       0.97      0.91      0.94        43\n",
      "           1       0.95      0.99      0.97        71\n",
      "\n",
      "    accuracy                           0.96       114\n",
      "   macro avg       0.96      0.95      0.95       114\n",
      "weighted avg       0.96      0.96      0.96       114\n",
      "\n",
      "Threshold: 0.6\n",
      "[[41  2]\n",
      " [ 1 70]]\n",
      "              precision    recall  f1-score   support\n",
      "\n",
      "           0       0.98      0.95      0.96        43\n",
      "           1       0.97      0.99      0.98        71\n",
      "\n",
      "    accuracy                           0.97       114\n",
      "   macro avg       0.97      0.97      0.97       114\n",
      "weighted avg       0.97      0.97      0.97       114\n",
      "\n",
      "Threshold: 0.7\n",
      "[[41  2]\n",
      " [ 1 70]]\n",
      "              precision    recall  f1-score   support\n",
      "\n",
      "           0       0.98      0.95      0.96        43\n",
      "           1       0.97      0.99      0.98        71\n",
      "\n",
      "    accuracy                           0.97       114\n",
      "   macro avg       0.97      0.97      0.97       114\n",
      "weighted avg       0.97      0.97      0.97       114\n",
      "\n",
      "Threshold: 0.8\n",
      "[[42  1]\n",
      " [ 2 69]]\n",
      "              precision    recall  f1-score   support\n",
      "\n",
      "           0       0.95      0.98      0.97        43\n",
      "           1       0.99      0.97      0.98        71\n",
      "\n",
      "    accuracy                           0.97       114\n",
      "   macro avg       0.97      0.97      0.97       114\n",
      "weighted avg       0.97      0.97      0.97       114\n",
      "\n",
      "Threshold: 0.9\n",
      "[[43  0]\n",
      " [ 7 64]]\n",
      "              precision    recall  f1-score   support\n",
      "\n",
      "           0       0.86      1.00      0.92        43\n",
      "           1       1.00      0.90      0.95        71\n",
      "\n",
      "    accuracy                           0.94       114\n",
      "   macro avg       0.93      0.95      0.94       114\n",
      "weighted avg       0.95      0.94      0.94       114\n",
      "\n"
     ]
    }
   ],
   "source": [
    "#4. Experiment with different threshold values:\n",
    "\n",
    "thresholds = np.arange(0.1, 1.0, 0.1)\n",
    "y_probs = classifier.predict_proba(X_test)[:, 1]\n",
    "\n",
    "for threshold in thresholds:\n",
    "    y_pred = (y_probs >= threshold).astype(int)\n",
    "    print(f\"Threshold: {threshold:.1f}\")\n",
    "    print(confusion_matrix(y_test, y_pred))\n",
    "    print(classification_report(y_test, y_pred))\n"
   ]
  },
  {
   "cell_type": "code",
   "execution_count": null,
   "id": "80622e99",
   "metadata": {},
   "outputs": [],
   "source": [
    "#5. Analyze the results to identify the optimal threshold:\n",
    "\n",
    "# From the results, you can analyze the trade-offs between false positives and false negatives at each \n",
    "# threshold value. Choose the threshold value that best balances this trade-off or maximizes the chosen \n",
    "# performance metric, such as F1-score or precision-recall.\n",
    "\n",
    "# *Note: The optimal threshold value will depend on the specific problem context and the importance of \n",
    "# false positives vs. false negatives in that context.\n"
   ]
  }
 ],
 "metadata": {
  "kernelspec": {
   "display_name": "Python 3 (ipykernel)",
   "language": "python",
   "name": "python3"
  },
  "language_info": {
   "codemirror_mode": {
    "name": "ipython",
    "version": 3
   },
   "file_extension": ".py",
   "mimetype": "text/x-python",
   "name": "python",
   "nbconvert_exporter": "python",
   "pygments_lexer": "ipython3",
   "version": "3.9.12"
  }
 },
 "nbformat": 4,
 "nbformat_minor": 5
}
