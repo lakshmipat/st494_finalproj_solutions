{
 "cells": [
  {
   "cell_type": "code",
   "execution_count": 1,
   "id": "0f651d47-aa21-4951-8032-68d623b82cf0",
   "metadata": {},
   "outputs": [],
   "source": [
    "import pandas as pd\n",
    "from sklearn.model_selection import train_test_split\n",
    "\n",
    "url = \"https://archive.ics.uci.edu/ml/machine-learning-databases/breast-cancer-wisconsin/wdbc.data\"\n",
    "column_names = [\"id\", \"diagnosis\", \"mean_radius\", \"mean_texture\", \"mean_perimeter\", \"mean_area\", \"mean_smoothness\", \n",
    "                \"mean_compactness\", \"mean_concavity\", \"mean_concave_points\", \"mean_symmetry\", \"mean_fractal_dimension\", \n",
    "                \"se_radius\", \"se_texture\", \"se_perimeter\", \"se_area\", \"se_smoothness\", \"se_compactness\", \n",
    "                \"se_concavity\", \"se_concave_points\", \"se_symmetry\", \"se_fractal_dimension\", \n",
    "                \"worst_radius\", \"worst_texture\", \"worst_perimeter\", \"worst_area\", \"worst_smoothness\", \n",
    "                \"worst_compactness\", \"worst_concavity\", \"worst_concave_points\", \"worst_symmetry\", \"worst_fractal_dimension\"]\n",
    "data = pd.read_csv(url, header=None, names=column_names)\n",
    "\n",
    "data = data.drop(\"id\", axis=1)\n",
    "\n",
    "data[\"diagnosis\"] = data[\"diagnosis\"].map({\"M\": 1, \"B\": 0})\n",
    "\n",
    "#split into train and test sets\n",
    "\n",
    "X = data.drop(\"diagnosis\", axis=1)\n",
    "y = data[\"diagnosis\"]\n",
    "X_train, X_test, y_train, y_test = train_test_split(X, y, test_size=0.3, random_state=42)\n"
   ]
  },
  {
   "cell_type": "code",
   "execution_count": 7,
   "id": "4bf9583d-a20c-41f1-810e-08689f09e222",
   "metadata": {},
   "outputs": [
    {
     "data": {
      "text/plain": [
       "569"
      ]
     },
     "execution_count": 7,
     "metadata": {},
     "output_type": "execute_result"
    }
   ],
   "source": [
    "len(data)"
   ]
  },
  {
   "cell_type": "code",
   "execution_count": 2,
   "id": "8bca192f-13a8-4d4e-a3a2-ad6e5506a9d5",
   "metadata": {},
   "outputs": [],
   "source": [
    "#Preproccess data by scaling features\n",
    "from sklearn.preprocessing import StandardScaler\n",
    "\n",
    "scaler = StandardScaler()\n",
    "X_train_scaled = scaler.fit_transform(X_train)\n",
    "X_test_scaled = scaler.transform(X_test)\n"
   ]
  },
  {
   "cell_type": "code",
   "execution_count": 3,
   "id": "6e011394-dc6c-4ebb-ac39-9e3b07a3efde",
   "metadata": {},
   "outputs": [
    {
     "data": {
      "text/plain": [
       "LogisticRegression()"
      ]
     },
     "execution_count": 3,
     "metadata": {},
     "output_type": "execute_result"
    }
   ],
   "source": [
    "#Train logistic regression model on training set\n",
    "from sklearn.linear_model import LogisticRegression\n",
    "\n",
    "lr = LogisticRegression()\n",
    "lr.fit(X_train_scaled, y_train)\n"
   ]
  },
  {
   "cell_type": "code",
   "execution_count": 4,
   "id": "f982ec60-33fb-45fc-8228-666d43c66695",
   "metadata": {},
   "outputs": [],
   "source": [
    "# Make predictions and calculate ROC and Precision-Recall curves\n",
    "from sklearn.metrics import roc_curve, precision_recall_curve\n",
    "\n",
    "y_prob = lr.predict_proba(X_test_scaled)[:, 1]\n",
    "\n",
    "fpr, tpr, thresholds = roc_curve(y_test, y_prob)\n",
    "\n",
    "precision, recall, thresholds = precision_recall_curve(y_test, y_prob)\n"
   ]
  },
  {
   "cell_type": "code",
   "execution_count": 5,
   "id": "85238001-9668-441b-8fad-7ccc6a02e195",
   "metadata": {},
   "outputs": [
    {
     "data": {
      "image/png": "[encoded data removed]",
      "text/plain": [
       "<Figure size 432x288 with 1 Axes>"
      ]
     },
     "metadata": {
      "needs_background": "light"
     },
     "output_type": "display_data"
    },
    {
     "data": {
      "image/png": "[encoded data removed]",
      "text/plain": [
       "<Figure size 432x288 with 1 Axes>"
      ]
     },
     "metadata": {
      "needs_background": "light"
     },
     "output_type": "display_data"
    }
   ],
   "source": [
    "import matplotlib.pyplot as plt\n",
    "\n",
    "#Plot the curves\n",
    "plt.plot(fpr, tpr)\n",
    "plt.xlabel(\"False Positive Rate\")\n",
    "plt.ylabel(\"True Positive Rate\")\n",
    "plt.title(\"ROC Curve\")\n",
    "plt.show()\n",
    "\n",
    "plt.plot(recall, precision)\n",
    "plt.xlabel(\"Recall\")\n",
    "plt.ylabel(\"Precision\")\n",
    "plt.title(\"Precision-Recall Curve\")\n",
    "plt.show()\n"
   ]
  },
  {
   "cell_type": "code",
   "execution_count": null,
   "id": "463020f7-dee7-47b8-bd91-61867423bfe8",
   "metadata": {},
   "outputs": [],
   "source": []
  }
 ],
 "metadata": {
  "kernelspec": {
   "display_name": "Python 3 (ipykernel)",
   "language": "python",
   "name": "python3"
  },
  "language_info": {
   "codemirror_mode": {
    "name": "ipython",
    "version": 3
   },
   "file_extension": ".py",
   "mimetype": "text/x-python",
   "name": "python",
   "nbconvert_exporter": "python",
   "pygments_lexer": "ipython3",
   "version": "3.9.7"
  }
 },
 "nbformat": 4,
 "nbformat_minor": 5
}
